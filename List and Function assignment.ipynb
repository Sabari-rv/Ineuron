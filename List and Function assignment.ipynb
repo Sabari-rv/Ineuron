{
 "cells": [
  {
   "cell_type": "markdown",
   "metadata": {},
   "source": [
    "1.1 Write a Python Program(with class concepts) to find the area of the triangle using the below\n",
    "formula.\n",
    "\n",
    "area = (s*(s-a)*(s-b)*(s-c)) ** 0.5\n",
    "\n",
    "Function to take the length of the sides of triangle from user should be defined in the parent\n",
    "class and function to calculate the area should be defined in subclass."
   ]
  },
  {
   "cell_type": "markdown",
   "metadata": {},
   "source": [
    "### Solution:"
   ]
  },
  {
   "cell_type": "code",
   "execution_count": 2,
   "metadata": {},
   "outputs": [
    {
     "name": "stdout",
     "output_type": "stream",
     "text": [
      "Enter the length of sides of the triangle: \n",
      "15\n",
      "17\n",
      "19\n",
      "Area for the specified lengths will be:  121.62724818066057 cm² units\n"
     ]
    }
   ],
   "source": [
    "class parent:\n",
    "    def get_len(self):\n",
    "        print(\"Enter the length of sides of the triangle: \")\n",
    "        self.a = int(input())\n",
    "        self.b = int(input())\n",
    "        self.c = int(input())\n",
    "class child(parent):\n",
    "    def cal_area(self):\n",
    "        self.get_len()\n",
    "        self.s = (self.a + self.b + self.c)/2\n",
    "        area = (self.s * (self.s - self.a) * (self.s - self.b) * (self.s - self.c)) ** 0.5\n",
    "        return area\n",
    "triangle_lengths = child()\n",
    "calculated_area = triangle_lengths.cal_area()\n",
    "print(\"Area for the specified lengths will be: \", calculated_area,\"cm\\u00b2 units\")"
   ]
  },
  {
   "cell_type": "markdown",
   "metadata": {},
   "source": [
    "1.2 Write a function filter_long_words() that takes a list of words and an integer n and returns\n",
    "the list of words that are longer than n."
   ]
  },
  {
   "cell_type": "markdown",
   "metadata": {},
   "source": [
    "### Solution:"
   ]
  },
  {
   "cell_type": "code",
   "execution_count": 3,
   "metadata": {
    "scrolled": true
   },
   "outputs": [
    {
     "name": "stdout",
     "output_type": "stream",
     "text": [
      "Original set of Words: \n",
      " ['Google', 'Data Science', 'Dictionary', 'Prediction', 'Data', 'Machine Learning', 'Deep Learning', 'Natural Language Processing']\n",
      "\n",
      "List of Words longer than specified n are: \n"
     ]
    },
    {
     "data": {
      "text/plain": [
       "['Data Science',\n",
       " 'Machine Learning',\n",
       " 'Deep Learning',\n",
       " 'Natural Language Processing']"
      ]
     },
     "execution_count": 3,
     "metadata": {},
     "output_type": "execute_result"
    }
   ],
   "source": [
    "def filter_long_words(list_of_words, n):\n",
    "    new_list = []\n",
    "    for i in list_of_words:\n",
    "        if (len(i) > n):\n",
    "            new_list.append(i)\n",
    "    print(\"\\nList of Words longer than specified n are: \")\n",
    "    return new_list\n",
    "\n",
    "list_of_words = ['Google','Data Science','Dictionary','Prediction','Data','Machine Learning','Deep Learning','Natural Language Processing']\n",
    "n = 10\n",
    "print(\"Original set of Words: \\n\",list_of_words)\n",
    "filter_long_words(list_of_words,n)"
   ]
  },
  {
   "cell_type": "markdown",
   "metadata": {},
   "source": [
    "2.1 Write a Python program using function concept that maps list of words into a list of integers\n",
    "representing the lengths of the corresponding words.\n",
    "Hint: If a list [ ab,cde,erty] is passed on to the python function output should come as [2,3,4]\n",
    "Here 2,3 and 4 are the lengths of the words in the list."
   ]
  },
  {
   "cell_type": "markdown",
   "metadata": {},
   "source": [
    "### Solution:"
   ]
  },
  {
   "cell_type": "code",
   "execution_count": 4,
   "metadata": {},
   "outputs": [
    {
     "data": {
      "text/plain": [
       "[2, 3, 4]"
      ]
     },
     "execution_count": 4,
     "metadata": {},
     "output_type": "execute_result"
    }
   ],
   "source": [
    "def cal_length(word_list):\n",
    "    len_list = []\n",
    "    for i in word_list:\n",
    "        len_list.append(len(i))\n",
    "    return len_list\n",
    "word_list = ['ab','cde','erty']\n",
    "cal_length(word_list)"
   ]
  },
  {
   "cell_type": "markdown",
   "metadata": {},
   "source": [
    "2.2 Write a Python function which takes a character (i.e. a string of length 1) and returns True if\n",
    "it is a vowel, False otherwise."
   ]
  },
  {
   "cell_type": "markdown",
   "metadata": {},
   "source": [
    "### Solution:"
   ]
  },
  {
   "cell_type": "code",
   "execution_count": 5,
   "metadata": {},
   "outputs": [
    {
     "name": "stdout",
     "output_type": "stream",
     "text": [
      "Enter a character: e\n"
     ]
    },
    {
     "data": {
      "text/plain": [
       "True"
      ]
     },
     "execution_count": 5,
     "metadata": {},
     "output_type": "execute_result"
    }
   ],
   "source": [
    "def vowel(s):\n",
    "    if s.lower() in 'aeiou':\n",
    "        return True\n",
    "    else:\n",
    "        return False\n",
    "        \n",
    "s=input(\"Enter a character: \")\n",
    "vowel(s)"
   ]
  }
 ],
 "metadata": {
  "kernelspec": {
   "display_name": "Python 3",
   "language": "python",
   "name": "python3"
  },
  "language_info": {
   "codemirror_mode": {
    "name": "ipython",
    "version": 3
   },
   "file_extension": ".py",
   "mimetype": "text/x-python",
   "name": "python",
   "nbconvert_exporter": "python",
   "pygments_lexer": "ipython3",
   "version": "3.8.3"
  }
 },
 "nbformat": 4,
 "nbformat_minor": 4
}
